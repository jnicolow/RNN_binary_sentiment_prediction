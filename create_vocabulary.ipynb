{
 "cells": [
  {
   "cell_type": "code",
   "execution_count": 1,
   "metadata": {},
   "outputs": [
    {
     "data": {
      "text/plain": [
       "<module 'importlib' from 'c:\\\\Users\\\\jnicolow\\\\AppData\\\\Local\\\\anaconda3\\\\envs\\\\rnn_env\\\\Lib\\\\importlib\\\\__init__.py'>"
      ]
     },
     "execution_count": 1,
     "metadata": {},
     "output_type": "execute_result"
    }
   ],
   "source": [
    "import os\n",
    "import joblib\n",
    "from glob import glob\n",
    "import re\n",
    "import importlib\n",
    "\n",
    "from torchtext.data.utils import get_tokenizer\n",
    "from torchtext.vocab import build_vocab_from_iterator\n",
    "\n",
    "from sentimentRNN import textpreprocess\n",
    "importlib.reload(importlib)\n"
   ]
  },
  {
   "cell_type": "markdown",
   "metadata": {},
   "source": [
    "# Get Tokens and build vocab"
   ]
  },
  {
   "cell_type": "code",
   "execution_count": 2,
   "metadata": {},
   "outputs": [
    {
     "ename": "TypeError",
     "evalue": "build_vocab_from_iterator() got an unexpected keyword argument 'specials'",
     "output_type": "error",
     "traceback": [
      "\u001b[1;31m---------------------------------------------------------------------------\u001b[0m",
      "\u001b[1;31mTypeError\u001b[0m                                 Traceback (most recent call last)",
      "Cell \u001b[1;32mIn[2], line 13\u001b[0m\n\u001b[0;32m     10\u001b[0m             \u001b[38;5;28;01myield\u001b[39;00m tokens\n\u001b[0;32m     12\u001b[0m \u001b[38;5;66;03m# Build vocabulary from tokenized text\u001b[39;00m\n\u001b[1;32m---> 13\u001b[0m vocab \u001b[38;5;241m=\u001b[39m build_vocab_from_iterator(yield_tokens(fns), specials\u001b[38;5;241m=\u001b[39m[\u001b[38;5;124m\"\u001b[39m\u001b[38;5;124m<unk>\u001b[39m\u001b[38;5;124m\"\u001b[39m])\n\u001b[0;32m     14\u001b[0m vocab\u001b[38;5;241m.\u001b[39mset_default_index(vocab[\u001b[38;5;124m\"\u001b[39m\u001b[38;5;124m<unk>\u001b[39m\u001b[38;5;124m\"\u001b[39m])\n\u001b[0;32m     16\u001b[0m \u001b[38;5;28;01mimport\u001b[39;00m \u001b[38;5;21;01mjoblib\u001b[39;00m\n",
      "\u001b[1;31mTypeError\u001b[0m: build_vocab_from_iterator() got an unexpected keyword argument 'specials'"
     ]
    }
   ],
   "source": [
    "tokenizer = get_tokenizer(\"basic_english\")\n",
    "\n",
    "fns = glob(os.path.join('train', '*', '*.txt'))\n",
    "\n",
    "def yield_tokens(fns):\n",
    "    for fn in fns:\n",
    "        with open(fn, 'r') as f:\n",
    "            text = f.readlines()[0]\n",
    "            tokens = tokenizer(textpreprocess.clean_text(text))\n",
    "            yield tokens\n",
    "\n",
    "# Build vocabulary from tokenized text\n",
    "vocab = build_vocab_from_iterator(yield_tokens(fns), specials=[\"<unk>\"])\n",
    "vocab.set_default_index(vocab[\"<unk>\"])\n",
    "\n",
    "import joblib\n",
    "\n",
    "# Save the vocabulary to a file\n",
    "# joblib.dump(vocab, os.path.join('sentimentRNN', 'vocab.pkl'))\n",
    "# print(\"Vocabulary saved to sentimentRNN/vocab.pkl\")\n",
    "\n",
    "print(\"Vocabulary Sample:\")\n",
    "for i, (token, index) in enumerate(vocab.get_stoi().items()):\n",
    "    if i >= 10:  # print only the first 10 items\n",
    "        break\n",
    "    print(f\"{token}: {index}\")\n"
   ]
  }
 ],
 "metadata": {
  "kernelspec": {
   "display_name": "rnn_env",
   "language": "python",
   "name": "python3"
  },
  "language_info": {
   "codemirror_mode": {
    "name": "ipython",
    "version": 3
   },
   "file_extension": ".py",
   "mimetype": "text/x-python",
   "name": "python",
   "nbconvert_exporter": "python",
   "pygments_lexer": "ipython3",
   "version": "3.11.10"
  }
 },
 "nbformat": 4,
 "nbformat_minor": 2
}
