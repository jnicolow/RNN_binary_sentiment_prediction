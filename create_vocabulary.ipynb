{
 "cells": [
  {
   "cell_type": "code",
   "execution_count": 1,
   "metadata": {},
   "outputs": [
    {
     "name": "stderr",
     "output_type": "stream",
     "text": [
      "c:\\Users\\jnicolow\\AppData\\Local\\anaconda3\\envs\\ptorch\\Lib\\site-packages\\torchtext\\data\\__init__.py:4: UserWarning: \n",
      "/!\\ IMPORTANT WARNING ABOUT TORCHTEXT STATUS /!\\ \n",
      "Torchtext is deprecated and the last released version will be 0.18 (this one). You can silence this warning by calling the following at the beginnign of your scripts: `import torchtext; torchtext.disable_torchtext_deprecation_warning()`\n",
      "  warnings.warn(torchtext._TORCHTEXT_DEPRECATION_MSG)\n"
     ]
    },
    {
     "data": {
      "text/plain": [
       "<module 'importlib' from 'c:\\\\Users\\\\jnicolow\\\\AppData\\\\Local\\\\anaconda3\\\\envs\\\\ptorch\\\\Lib\\\\importlib\\\\__init__.py'>"
      ]
     },
     "execution_count": 1,
     "metadata": {},
     "output_type": "execute_result"
    }
   ],
   "source": [
    "import os\n",
    "import joblib\n",
    "from glob import glob\n",
    "import re\n",
    "import importlib\n",
    "\n",
    "from torchtext.data.utils import get_tokenizer\n",
    "from torchtext.vocab import build_vocab_from_iterator\n",
    "\n",
    "from sentimentRNN import textpreprocess\n",
    "importlib.reload(importlib)\n"
   ]
  },
  {
   "cell_type": "markdown",
   "metadata": {},
   "source": [
    "# Get Tokens and build vocab"
   ]
  },
  {
   "cell_type": "code",
   "execution_count": 2,
   "metadata": {},
   "outputs": [
    {
     "name": "stdout",
     "output_type": "stream",
     "text": [
      "Vocabulary saved to sentimentRNN/vocab.pkl\n",
      "Vocabulary Sample:\n",
      "wonderfulive: 136102\n",
      "butts: 11920\n",
      "forgave: 32167\n",
      "bakersfeild: 61656\n",
      "neuroses: 19856\n",
      "massacessi: 49586\n",
      "faceit: 46133\n",
      "she: 52\n",
      "darnedest: 44926\n",
      "intolerance: 11696\n"
     ]
    }
   ],
   "source": [
    "tokenizer = get_tokenizer(\"basic_english\")\n",
    "\n",
    "fns = glob(os.path.join('train', '*', '*.txt'))\n",
    "\n",
    "def yield_tokens(fns):\n",
    "    for fn in fns:\n",
    "        with open(fn, 'r') as f:\n",
    "            text = f.readlines()[0]\n",
    "            tokens = tokenizer(textpreprocess.clean_text(text))\n",
    "            yield tokens\n",
    "\n",
    "# Build vocabulary from tokenized text\n",
    "vocab = build_vocab_from_iterator(yield_tokens(fns), specials=[\"<unk>\"])\n",
    "vocab.set_default_index(vocab[\"<unk>\"])\n",
    "\n",
    "import joblib\n",
    "\n",
    "# Save the vocabulary to a file\n",
    "joblib.dump(vocab, os.path.join('sentimentRNN', 'vocab.pkl'))\n",
    "print(\"Vocabulary saved to sentimentRNN/vocab.pkl\")\n",
    "\n",
    "print(\"Vocabulary Sample:\")\n",
    "for i, (token, index) in enumerate(vocab.get_stoi().items()):\n",
    "    if i >= 10:  # print only the first 10 items\n",
    "        break\n",
    "    print(f\"{token}: {index}\")\n"
   ]
  }
 ],
 "metadata": {
  "kernelspec": {
   "display_name": "ptorch",
   "language": "python",
   "name": "python3"
  },
  "language_info": {
   "codemirror_mode": {
    "name": "ipython",
    "version": 3
   },
   "file_extension": ".py",
   "mimetype": "text/x-python",
   "name": "python",
   "nbconvert_exporter": "python",
   "pygments_lexer": "ipython3",
   "version": "3.11.9"
  }
 },
 "nbformat": 4,
 "nbformat_minor": 2
}
